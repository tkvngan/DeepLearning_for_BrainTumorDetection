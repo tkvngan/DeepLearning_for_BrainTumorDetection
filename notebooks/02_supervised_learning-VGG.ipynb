{
 "cells": [
  {
   "cell_type": "code",
   "execution_count": 17,
   "id": "f74955c5-b01c-49fa-813b-2e76641095dd",
   "metadata": {},
   "outputs": [],
   "source": [
    "import tensorflow as tf\n",
    "import numpy as np\n",
    "import pandas as pd\n",
    "from tensorflow import keras\n",
    "from tensorflow.keras import layers, models\n",
    "from tensorflow.keras.applications import VGG16"
   ]
  },
  {
   "cell_type": "code",
   "execution_count": 2,
   "id": "0ff2c058-56cb-4146-8076-02967403e40c",
   "metadata": {},
   "outputs": [],
   "source": [
    "# Define dataset paths\n",
    "TRAIN_DIR = '../data/processed/train/'\n",
    "TEST_DIR = '../data/processed/test/'\n",
    "VAL_DIR = '../data/processed/val/'\n",
    "IMG_SIZE = (224,224)\n",
    "BATCH_SIZE = 32"
   ]
  },
  {
   "cell_type": "code",
   "execution_count": 23,
   "id": "6a76c6fa-ebd0-4776-9b8a-354851878e8f",
   "metadata": {},
   "outputs": [
    {
     "name": "stdout",
     "output_type": "stream",
     "text": [
      "Found 125 files belonging to 2 classes.\n"
     ]
    }
   ],
   "source": [
    "# Image preprocessing using image_dataset_from_directory\n",
    "train_data = tf.keras.utils.image_dataset_from_directory(\n",
    "    TRAIN_DIR,\n",
    "    image_size=IMG_SIZE,\n",
    "    batch_size=BATCH_SIZE,\n",
    "    color_mode='rgb',\n",
    "    label_mode='binary',\n",
    "    seed=42\n",
    ")"
   ]
  },
  {
   "cell_type": "code",
   "execution_count": 24,
   "id": "b5060125-54df-4ead-b377-b61095e4a9af",
   "metadata": {},
   "outputs": [
    {
     "name": "stdout",
     "output_type": "stream",
     "text": [
      "['no_tumor', 'tumor']\n"
     ]
    }
   ],
   "source": [
    "class_names = train_data.class_names  # Get class names before transformations\n",
    "print(class_names)"
   ]
  },
  {
   "cell_type": "code",
   "execution_count": 4,
   "id": "5fe31927-bfc8-4cbd-b37a-872ca1b7cfd7",
   "metadata": {},
   "outputs": [
    {
     "name": "stdout",
     "output_type": "stream",
     "text": [
      "Found 27 files belonging to 2 classes.\n"
     ]
    }
   ],
   "source": [
    "test_data = tf.keras.utils.image_dataset_from_directory(\n",
    "    TEST_DIR,\n",
    "    image_size=IMG_SIZE,\n",
    "    batch_size=BATCH_SIZE,\n",
    "    color_mode='rgb',\n",
    "    label_mode='binary',\n",
    "    seed=42\n",
    ")"
   ]
  },
  {
   "cell_type": "code",
   "execution_count": 5,
   "id": "a2cf8dca-c3a9-4b0b-b772-684bcb08a1c2",
   "metadata": {},
   "outputs": [
    {
     "name": "stdout",
     "output_type": "stream",
     "text": [
      "Found 27 files belonging to 2 classes.\n"
     ]
    }
   ],
   "source": [
    "val_data = tf.keras.utils.image_dataset_from_directory(\n",
    "    VAL_DIR,\n",
    "    image_size=IMG_SIZE,\n",
    "    batch_size=BATCH_SIZE,\n",
    "    color_mode='rgb',\n",
    "    label_mode='binary',\n",
    "    seed=42\n",
    ")"
   ]
  },
  {
   "cell_type": "raw",
   "id": "8f6ab9ce-efbc-4223-b6f8-1120de9bd76f",
   "metadata": {},
   "source": [
    "# Class names\n",
    "class_names = ['tumor','no_tumor']"
   ]
  },
  {
   "cell_type": "code",
   "execution_count": 6,
   "id": "ff78f95a-26ed-4ede-a8c4-e52708f76e75",
   "metadata": {},
   "outputs": [],
   "source": [
    "# Optimize dataset performance\n",
    "AUTOTUNE = tf.data.AUTOTUNE\n",
    "train_data = train_data.cache().shuffle(1000).prefetch(buffer_size=AUTOTUNE)\n",
    "val_data = val_data.cache().prefetch(buffer_size=AUTOTUNE)\n",
    "test_data = test_data.cache().prefetch(buffer_size=AUTOTUNE)"
   ]
  },
  {
   "cell_type": "code",
   "execution_count": 7,
   "id": "c3c3cbc9-4f91-4785-9413-fb0d576a1e54",
   "metadata": {},
   "outputs": [],
   "source": [
    "# VGG16 Model with transfer learning\n",
    "base_model = VGG16(weights='imagenet', include_top=False, input_shape=(224, 224, 3))\n",
    "base_model.trainable = False  # Freeze the convolutional base"
   ]
  },
  {
   "cell_type": "code",
   "execution_count": 8,
   "id": "1fe4d82f-887e-44e8-8de8-40393bcea87e",
   "metadata": {},
   "outputs": [],
   "source": [
    "# Custom classifier\n",
    "top_model = models.Sequential([\n",
    "    layers.Flatten(),\n",
    "    layers.Dense(256, activation='relu'),\n",
    "    layers.Dropout(0.5),\n",
    "    layers.Dense(1, activation='sigmoid')\n",
    "])"
   ]
  },
  {
   "cell_type": "code",
   "execution_count": 10,
   "id": "d81c65c3-3daa-47f0-8664-56a518e81275",
   "metadata": {},
   "outputs": [],
   "source": [
    "# Combine VGG16 and classifier\n",
    "model = models.Sequential([base_model, top_model])"
   ]
  },
  {
   "cell_type": "code",
   "execution_count": 11,
   "id": "e7878606-0eb6-4458-abac-a559b289c827",
   "metadata": {},
   "outputs": [
    {
     "name": "stdout",
     "output_type": "stream",
     "text": [
      "Model: \"sequential\"\n",
      "_________________________________________________________________\n",
      " Layer (type)                Output Shape              Param #   \n",
      "=================================================================\n",
      " flatten (Flatten)           (None, 25088)             0         \n",
      "                                                                 \n",
      " dense (Dense)               (None, 256)               6422784   \n",
      "                                                                 \n",
      " dropout (Dropout)           (None, 256)               0         \n",
      "                                                                 \n",
      " dense_1 (Dense)             (None, 1)                 257       \n",
      "                                                                 \n",
      "=================================================================\n",
      "Total params: 6,423,041\n",
      "Trainable params: 6,423,041\n",
      "Non-trainable params: 0\n",
      "_________________________________________________________________\n"
     ]
    }
   ],
   "source": [
    "top_model.summary()"
   ]
  },
  {
   "cell_type": "code",
   "execution_count": 12,
   "id": "0b7e144f-240d-48f3-849e-1d81c10e5008",
   "metadata": {},
   "outputs": [
    {
     "name": "stdout",
     "output_type": "stream",
     "text": [
      "Model: \"sequential_1\"\n",
      "_________________________________________________________________\n",
      " Layer (type)                Output Shape              Param #   \n",
      "=================================================================\n",
      " vgg16 (Functional)          (None, 7, 7, 512)         14714688  \n",
      "                                                                 \n",
      " sequential (Sequential)     (None, 1)                 6423041   \n",
      "                                                                 \n",
      "=================================================================\n",
      "Total params: 21,137,729\n",
      "Trainable params: 6,423,041\n",
      "Non-trainable params: 14,714,688\n",
      "_________________________________________________________________\n"
     ]
    }
   ],
   "source": [
    "model.summary()"
   ]
  },
  {
   "cell_type": "code",
   "execution_count": 13,
   "id": "5c6a10bc-79c2-4ff9-b0bb-a9c441b8a88a",
   "metadata": {},
   "outputs": [],
   "source": [
    "# Compile the model\n",
    "model.compile(optimizer='adam', loss='binary_crossentropy', metrics=['accuracy'])"
   ]
  },
  {
   "cell_type": "code",
   "execution_count": 14,
   "id": "679f2060-d840-454c-b1ca-c3cfc5b84f83",
   "metadata": {},
   "outputs": [
    {
     "name": "stdout",
     "output_type": "stream",
     "text": [
      "Epoch 1/10\n"
     ]
    },
    {
     "name": "stderr",
     "output_type": "stream",
     "text": [
      "2025-04-02 12:18:16.441501: W tensorflow/tsl/platform/profile_utils/cpu_utils.cc:128] Failed to get CPU frequency: 0 Hz\n"
     ]
    },
    {
     "name": "stdout",
     "output_type": "stream",
     "text": [
      "4/4 [==============================] - 14s 4s/step - loss: 40.7020 - accuracy: 0.6000 - val_loss: 12.3394 - val_accuracy: 0.5556\n",
      "Epoch 2/10\n",
      "4/4 [==============================] - 13s 3s/step - loss: 15.1964 - accuracy: 0.6960 - val_loss: 8.7496 - val_accuracy: 0.8519\n",
      "Epoch 3/10\n",
      "4/4 [==============================] - 13s 3s/step - loss: 3.7181 - accuracy: 0.8640 - val_loss: 13.0598 - val_accuracy: 0.7778\n",
      "Epoch 4/10\n",
      "4/4 [==============================] - 13s 3s/step - loss: 1.6111 - accuracy: 0.9360 - val_loss: 11.6085 - val_accuracy: 0.8148\n",
      "Epoch 5/10\n",
      "4/4 [==============================] - 13s 3s/step - loss: 3.2214 - accuracy: 0.9280 - val_loss: 14.7423 - val_accuracy: 0.8519\n",
      "Epoch 6/10\n",
      "4/4 [==============================] - 13s 3s/step - loss: 0.5698 - accuracy: 0.9840 - val_loss: 12.0080 - val_accuracy: 0.8519\n",
      "Epoch 7/10\n",
      "4/4 [==============================] - 13s 3s/step - loss: 0.4759 - accuracy: 0.9840 - val_loss: 11.5627 - val_accuracy: 0.8889\n",
      "Epoch 8/10\n",
      "4/4 [==============================] - 13s 4s/step - loss: 0.0252 - accuracy: 0.9920 - val_loss: 12.0796 - val_accuracy: 0.8519\n",
      "Epoch 9/10\n",
      "4/4 [==============================] - 13s 4s/step - loss: 1.3402e-06 - accuracy: 1.0000 - val_loss: 13.3047 - val_accuracy: 0.8519\n",
      "Epoch 10/10\n",
      "4/4 [==============================] - 13s 3s/step - loss: 0.6743 - accuracy: 0.9760 - val_loss: 13.6784 - val_accuracy: 0.8519\n"
     ]
    }
   ],
   "source": [
    "# Train the model\n",
    "history = model.fit(train_data, validation_data=val_data, epochs=10)"
   ]
  },
  {
   "cell_type": "code",
   "execution_count": 15,
   "id": "99b6936d-1470-4fdf-99fa-68f666f42a1b",
   "metadata": {},
   "outputs": [
    {
     "name": "stdout",
     "output_type": "stream",
     "text": [
      "1/1 [==============================] - 2s 2s/step - loss: 10.0526 - accuracy: 0.8519\n",
      "Test Accuracy: 85.19%\n"
     ]
    }
   ],
   "source": [
    "# Evaluate the model on test data\n",
    "test_loss, test_acc = model.evaluate(test_data)\n",
    "print(f\"Test Accuracy: {test_acc * 100:.2f}%\")"
   ]
  },
  {
   "cell_type": "code",
   "execution_count": 18,
   "id": "f4d6e58f-7326-42cb-a5f9-97ce29433abb",
   "metadata": {},
   "outputs": [
    {
     "name": "stdout",
     "output_type": "stream",
     "text": [
      "1/1 [==============================] - 2s 2s/step\n"
     ]
    }
   ],
   "source": [
    "# Generate predictions and confusion matrix\n",
    "y_pred = []\n",
    "y_true = []\n",
    "for images, labels in test_data:\n",
    "    predictions = model.predict(images)\n",
    "    pred_classes = np.argmax(predictions, axis=1)\n",
    "    y_pred.extend(pred_classes)\n",
    "    y_true.extend(labels.numpy())"
   ]
  },
  {
   "cell_type": "code",
   "execution_count": 19,
   "id": "9ee74e7b-512a-468a-940d-e4802a994991",
   "metadata": {},
   "outputs": [],
   "source": [
    "import matplotlib.pyplot as plt\n",
    "import seaborn as sns\n",
    "from sklearn.metrics import confusion_matrix, classification_report"
   ]
  },
  {
   "cell_type": "code",
   "execution_count": 21,
   "id": "c050cd7b-a224-41e0-afcb-eb67035281d0",
   "metadata": {},
   "outputs": [
    {
     "data": {
      "text/plain": [
       "array([[14,  0],\n",
       "       [13,  0]])"
      ]
     },
     "execution_count": 21,
     "metadata": {},
     "output_type": "execute_result"
    }
   ],
   "source": [
    "cm"
   ]
  },
  {
   "cell_type": "code",
   "execution_count": 26,
   "id": "dc201006-ee80-423a-b8b0-3f2037f4285c",
   "metadata": {},
   "outputs": [
    {
     "data": {
      "image/png": "[encoded data removed]",
      "text/plain": [
       "<Figure size 600x500 with 2 Axes>"
      ]
     },
     "metadata": {},
     "output_type": "display_data"
    }
   ],
   "source": [
    "# Compute Confusion Matrix\n",
    "cm = confusion_matrix(y_true, y_pred)\n",
    "cm_percentage = cm.astype('float') / cm.sum(axis=1)[:, np.newaxis]  # Normalize by row\n",
    "\n",
    "# Plot Confusion Matrix\n",
    "plt.figure(figsize=(6, 5))\n",
    "sns.heatmap(cm_percentage, annot=True, fmt=\".2%\", cmap='Blues', xticklabels=class_names, yticklabels=class_names)\n",
    "\n",
    "plt.xlabel('Predicted Label')\n",
    "plt.ylabel('True Label')\n",
    "plt.title('Confusion Matrix')\n",
    "plt.show()"
   ]
  },
  {
   "cell_type": "code",
   "execution_count": null,
   "id": "c96617c0-d714-43a3-86df-4e98dd63f3c9",
   "metadata": {},
   "outputs": [],
   "source": [
    "# Save the model\n",
    "model.save(\"VGG_CNN_model.h5\")"
   ]
  }
 ],
 "metadata": {
  "kernelspec": {
   "display_name": "Python 3 (ipykernel)",
   "language": "python",
   "name": "python3"
  },
  "language_info": {
   "codemirror_mode": {
    "name": "ipython",
    "version": 3
   },
   "file_extension": ".py",
   "mimetype": "text/x-python",
   "name": "python",
   "nbconvert_exporter": "python",
   "pygments_lexer": "ipython3",
   "version": "3.10.9"
  }
 },
 "nbformat": 4,
 "nbformat_minor": 5
}
